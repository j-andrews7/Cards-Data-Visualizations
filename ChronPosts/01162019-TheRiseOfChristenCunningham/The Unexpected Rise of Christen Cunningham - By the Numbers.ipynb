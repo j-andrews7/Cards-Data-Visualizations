{
 "cells": [
  {
   "cell_type": "code",
   "execution_count": 41,
   "metadata": {
    "kernel": "Python3"
   },
   "outputs": [],
   "source": [
    "# Load up them modules\n",
    "import plotly.plotly as py\n",
    "import plotly.graph_objs as go\n",
    "from plotly import tools\n",
    "from plotly.tools import FigureFactory as FF\n",
    "\n",
    "import json\n",
    "import numpy as np\n",
    "import pandas as pd\n",
    "import sportsreference\n",
    "\n",
    "from sportsreference.ncaab.roster import Player\n",
    "from sportsreference.ncaab.boxscore import Boxscore\n",
    "from sportsreference.ncaab.teams import Teams\n",
    "\n",
    "# Basics\n",
    "teams = Teams()\n",
    "cards = teams('Louisville')\n",
    "games_played = 17\n",
    "p = Player('christian-cunningham-1')\n",
    "p.df = p.dataframe"
   ]
  },
  {
   "cell_type": "code",
   "execution_count": 117,
   "metadata": {
    "kernel": "Python3"
   },
   "outputs": [],
   "source": [
    "def get_boxscores(team):\n",
    "    boxes = []\n",
    "    for game in cards.schedule:\n",
    "        box = game.boxscore\n",
    "        \n",
    "        boxes.append((game.opponent_abbr, game.boxscore))\n",
    "    \n",
    "    return(boxes)\n",
    "\n",
    "def get_game_stats(player):\n",
    "    \"\"\"Grab game stats from box score for a given list of players\"\"\"\n",
    "    for player in players:\n",
    "        print(player.name)\n",
    "        print(player.dataframe)\n",
    "        \n",
    "def get_season_stats(player, seasons):\n",
    "    \"\"\"Get per season rates for pts, fga, assists, etc and return as a dict.\"\"\"\n",
    "    season_stats = {}\n",
    "    season_stats['pts_game'] = [p(x).points/p(x).games_played for x in seasons]\n",
    "    season_stats['fga_game'] = [p(x).field_goal_attempts/p(x).games_played for x in seasons]\n",
    "    season_stats['ast_to_game'] = [p(x).assists/p(x).turnovers for x in seasons]\n",
    "    season_stats['ast_game'] = [p(x).assists/p(x).games_played for x in seasons]\n",
    "    season_stats['to_game'] = [p(x).turnovers/p(x).games_played for x in seasons]\n",
    "    season_stats['three_rt'] = [p(x).three_point_attempt_rate for x in seasons]\n",
    "    season_stats['true_shooting'] = [p(x).true_shooting_percentage for x in seasons]\n",
    "    season_stats['eFG'] = [p(x).effective_field_goal_percentage for x in seasons]\n",
    "    season_stats['PER'] = [p(x).player_efficiency_rating for x in seasons]\n",
    "    season_stats['fg'] = [p(x).field_goal_percentage for x in seasons]\n",
    "    season_stats['ws_40'] = [p(x).win_shares_per_40_minutes for x in seasons]\n",
    "    season_stats['off_plus_minus'] = [p(x).offensive_box_plus_minus for x in seasons]\n",
    "    season_stats['def_plus_minus'] = [p(x).defensive_box_plus_minus for x in seasons]\n",
    "    season_stats['tot_plus_minus'] = [p(x).box_plus_minus for x in seasons]\n",
    "    \n",
    "    return(season_stats)"
   ]
  },
  {
   "cell_type": "code",
   "execution_count": 110,
   "metadata": {
    "kernel": "Python3"
   },
   "outputs": [],
   "source": [
    "boxscores = get_boxscores(cards)\n",
    "boxscores = boxscores[0:(games_played+1)]"
   ]
  },
  {
   "cell_type": "markdown",
   "metadata": {
    "kernel": "Python3"
   },
   "source": [
    "I'm far from the first to say this, but Christen Cunningham is likely the biggest surprise from this group of Cardinals thus far this year. Well, other than absolutely devastating North Carolina at home and beating a Michigan State team that hasn't lost since. But those two games probably don't happen without the steady hand of CC guiding the sometimes finicky tiller of the boat that is the Louisville Cardinals men's basketball team. Or something. I'm bad at metaphors. \n",
    "\n",
    "Anyway, Christen Cunningham is **important** to this team. That importance is surprising. We all knew Nwora needed to become the scorer we expected he could be, some combination of Enoch/Williams/Agau needed to be moderately effective on both sides of the court, and Sutton needed to further embrace the gritty workhorse role. Fans on the up and up knew one more surprise would be necessary for the Cards to exceed expectations. Many thought it would be King finally coming into his own and contributing more than ill-advised drives at three defenders and getting slipped every other defensive possession, some thought Enoch might be a true presence on the inside, still others may have hoped Mack's penchant for toughness and grit would exceed even their wildest expectations. \n",
    "\n",
    "Unfortunately, King has regressed, slowly working his own way out of significant minutes. Steven Enoch has shown flashes of the strength and intensity missing from recent Louisville big men, but has lacked consistency. And while Mack's philosophy has certainly contributed to the Cardinals achievements thus far, their mental focus and toughness has waned at times, leading to stretches of porous defense, baffling offensive sets, and possessions thrown away before they've even begun.\n",
    "\n",
    "Few expected a graduate transfer from a bottom-half Southern conference Samford team to be the catalyst this team would need to bring out the best in themselves. A calming, experienced presence was the ceiling most would have given CC at the beginning of the season. Instead, we've been treated to a player in the midst of truly elevating his game, transitioning from a man who does only what's asked of him to a floor general, demanding the best from his teammates and pulling it out of them with his own got damn hands if necessary. Let's set the stage for CC's rise and take a closer look at just how impressive it has been.\n",
    "\n",
    "*Note: I'm dragging The Chron™ (DCIT) kickin' and screamin' into the 21st century - all visuals here are interactive and you should be able to hover over data points to see the underlying numbers. Can also zoom, change views, etc, though nothing here will be so complicated as to make those features interesting.*\n",
    "\n",
    "## The Past\n",
    "First off, we need to examine the type of player CC has been in the past. He's started every game he's played in throughout his college career, averaging 32+ minutes per game. Plays a lot of minutes (28+ this season), and he's been that dude his entire collegiate career. But he's **not** the same player he was at Samford. At first glance, it might *look* like his numbers are pretty similar:"
   ]
  },
  {
   "cell_type": "code",
   "execution_count": 111,
   "metadata": {
    "kernel": "Python3"
   },
   "outputs": [
    {
     "data": {
      "text/html": [
       "<iframe id=\"igraph\" scrolling=\"no\" style=\"border:none;\" seamless=\"seamless\" src=\"https://plot.ly/~crossback7/66.embed\" height=\"525px\" width=\"100%\"></iframe>"
      ],
      "text/plain": [
       "<plotly.tools.PlotlyDisplay object>"
      ]
     },
     "execution_count": 111,
     "metadata": {},
     "output_type": "execute_result"
    }
   ],
   "source": [
    "seasons = ['2014-15', '2015-16', '2016-17', '2018-19']\n",
    "season_stats = get_season_stats(p, seasons)\n",
    "pts_trace = go.Scatter(x=seasons,\n",
    "                  y=season_stats[\"pts_game\"],\n",
    "                      mode='lines+markers',\n",
    "                      name='Points')\n",
    "\n",
    "asst_trace = go.Scatter(x=seasons,\n",
    "                  y=season_stats[\"ast_game\"],\n",
    "                      mode='lines+markers',\n",
    "                      name='Assists')\n",
    "\n",
    "to_trace = go.Scatter(x=seasons,\n",
    "                  y=season_stats[\"to_game\"],\n",
    "                      mode='lines+markers',\n",
    "                      name='Turnovers')\n",
    "\n",
    "data = [pts_trace, asst_trace, to_trace]\n",
    "\n",
    "# Edit the layout\n",
    "layout = dict(title='Christen Cunningham - The Basics',\n",
    "              xaxis = dict(title = 'Season'),\n",
    "              yaxis = dict(title = 'Per Game'),\n",
    "              )\n",
    "\n",
    "fig = dict(data=data, layout=layout)\n",
    "py.iplot(fig, filename='CC_Basics')"
   ]
  },
  {
   "cell_type": "markdown",
   "metadata": {
    "kernel": "Python3"
   },
   "source": [
    "About the same average in points and assists. But those points aren't considering that he's taking roughly two less shots per game this season than during his time at Samford. This speaks volumes as to his huge increase in efficiency:"
   ]
  },
  {
   "cell_type": "code",
   "execution_count": 112,
   "metadata": {
    "kernel": "Python3"
   },
   "outputs": [
    {
     "name": "stdout",
     "output_type": "stream",
     "text": [
      "This is the format of your plot grid:\n",
      "[ (1,1) x1,y1 ]  [ (1,2) x2,y2 ]\n",
      "[ (2,1) x3,y3           -      ]\n",
      "\n"
     ]
    },
    {
     "data": {
      "text/html": [
       "<iframe id=\"igraph\" scrolling=\"no\" style=\"border:none;\" seamless=\"seamless\" src=\"https://plot.ly/~crossback7/62.embed\" height=\"525px\" width=\"100%\"></iframe>"
      ],
      "text/plain": [
       "<plotly.tools.PlotlyDisplay object>"
      ]
     },
     "execution_count": 112,
     "metadata": {},
     "output_type": "execute_result"
    }
   ],
   "source": [
    "off_rtg = [105.7, 107.9, 112.8, 124.1]\n",
    "def_rtg = [110.0, 109.2, 111.0, 103.2]\n",
    "\n",
    "off_trace = go.Scatter(x=seasons,\n",
    "                  y=season_stats['off_plus_minus'],\n",
    "                      mode='lines+markers',\n",
    "                      name='Offensive')\n",
    "\n",
    "def_trace = go.Scatter(x=seasons,\n",
    "                  y=season_stats['def_plus_minus'],\n",
    "                      mode='lines+markers',\n",
    "                      name='Defensive')\n",
    "\n",
    "tot_trace = go.Scatter(x=seasons,\n",
    "                  y=season_stats['tot_plus_minus'],\n",
    "                      mode='lines+markers',\n",
    "                      name='Total')\n",
    "\n",
    "data = [off_trace, def_trace, tot_trace]\n",
    "\n",
    "fig = tools.make_subplots(rows=2, cols=2, specs=[[{}, {}], [{'colspan': 2}, None]])\n",
    "\n",
    "fig.append_trace(off_trace, 1, 1)\n",
    "fig.append_trace(def_trace, 1, 1)\n",
    "fig.append_trace(tot_trace, 1, 1)\n",
    "\n",
    "offrt_trace = go.Scatter(x=seasons,\n",
    "                  y=off_rtg,\n",
    "                      mode='lines+markers',\n",
    "                      name='Offensive')\n",
    "\n",
    "defrt_trace = go.Scatter(x=seasons,\n",
    "                  y=def_rtg,\n",
    "                      mode='lines+markers',\n",
    "                      name='Defensive')\n",
    "\n",
    "PER_trace = go.Scatter(x=seasons,\n",
    "                  y=season_stats['PER'],\n",
    "                      mode='lines+markers',\n",
    "                      name='PER')\n",
    "\n",
    "fig.append_trace(offrt_trace, 1, 2)\n",
    "fig.append_trace(defrt_trace, 1, 2)\n",
    "\n",
    "fig.append_trace(PER_trace, 2, 1)\n",
    "\n",
    "fig['layout'].update(title=(p.name + ' - Career Efficiency'))\n",
    "fig['layout']['yaxis1'].update(title='Box Plus/Minus')\n",
    "fig['layout']['yaxis2'].update(title='Per 100 Possessions Rating')\n",
    "fig['layout']['yaxis3'].update(title='Player Efficiency Rating')\n",
    "\n",
    "py.iplot(fig, filename=\"CC_Career_Efficiency\")"
   ]
  },
  {
   "cell_type": "markdown",
   "metadata": {
    "kernel": "Python3"
   },
   "source": [
    "Both his offensive and defensive box plus/minus, which measure points contributed above/below an average player per 100 possessions (higher is better for both measures), have improved significantly. His offensive box/minus has jumped over 5 points, which is an absurb increase for a veteran player from one season to another. Similarly, both his offensive and defensive ratings per 100 possessions have improved (high offensive rating is better, low defensive rating is better). His player efficiency rating (PER) is higher than it's ever been and only getting better."
   ]
  },
  {
   "cell_type": "markdown",
   "metadata": {
    "kernel": "Python3"
   },
   "source": [
    "## The Turning Point\n",
    "It's easy to chalk these changes up to improved coaching, more talented teammates, and schemes that may fit his style better. All of which may very well be true, but don't take into account the dramatic increase in competition that comes with playing in the ACC. (Pssst, his offensive plus/minus is better than R.J. Barrett. You know, Mike's second favorite Duke player who's been on every POTY watch list all season. That's pretty good.) I might buy the defensive jump being the result of the pack line defense forcing a higher percentage of challenged, long-range shots. Regardless, the numbers say there are more tangible changes to his offensive game resulting in his newly streamlined offense:"
   ]
  },
  {
   "cell_type": "code",
   "execution_count": 114,
   "metadata": {
    "kernel": "Python3"
   },
   "outputs": [
    {
     "data": {
      "text/html": [
       "<iframe id=\"igraph\" scrolling=\"no\" style=\"border:none;\" seamless=\"seamless\" src=\"https://plot.ly/~crossback7/68.embed\" height=\"525px\" width=\"100%\"></iframe>"
      ],
      "text/plain": [
       "<plotly.tools.PlotlyDisplay object>"
      ]
     },
     "execution_count": 114,
     "metadata": {},
     "output_type": "execute_result"
    }
   ],
   "source": [
    "threeptr_trace = go.Scatter(x=seasons,\n",
    "                  y=season_stats[\"three_rt\"],\n",
    "                      mode='lines+markers',\n",
    "                      name='3 Pt Rate')\n",
    "\n",
    "efg_trace = go.Scatter(x=seasons,\n",
    "                  y=season_stats[\"eFG\"],\n",
    "                      mode='lines+markers',\n",
    "                      name='eFG%')\n",
    "\n",
    "ts_trace = go.Scatter(x=seasons,\n",
    "                  y=season_stats[\"true_shooting\"],\n",
    "                      mode='lines+markers',\n",
    "                      name='True Shooting%')\n",
    "\n",
    "fg_trace = go.Scatter(x=seasons,\n",
    "                  y=season_stats[\"fg\"],\n",
    "                      mode='lines+markers',\n",
    "                      name='FG%')\n",
    "\n",
    "data = [threeptr_trace, efg_trace, ts_trace, fg_trace]\n",
    "\n",
    "# Edit the layout\n",
    "layout = dict(title='Christen Cunningham - Shot Selection & Shooting Success',\n",
    "              xaxis = dict(title = 'Season'),\n",
    "              yaxis = dict(title = 'Rate'),\n",
    "              )\n",
    "\n",
    "fig = dict(data=data, layout=layout)\n",
    "py.iplot(fig, filename='CC_Percentages')"
   ]
  },
  {
   "cell_type": "markdown",
   "metadata": {
    "kernel": "Python3"
   },
   "source": [
    "Better shot selection has led to a huge jump in CC's effective FG percentage, as he's nearly doubled the percentage of his shots that are 3 pointers over his seasons at Samford. I'm not sure what caused the shift, maybe Mack convinced him that popping the open deep ball would help open the lane for him, but then the ball just kept going in. Maybe he found his confidence as a leader and shooter somewhere along the way, I don't know. Regardless, CC **always** brings it. Even during the Cards worst games this season (Pitt and arguably UK), CC was the only reason they were close. He's the glue that often keeps those game from unraveling for the Cards, pulling the squad together with a clutch shot, firing them up on D, or jump starting a teammate's game with a nifty dime. The overtime loss to Pitt doesn't make it to overtime, and the UK game would have gone from dissapointing loss to mind-numbing embarrassment without him. He doesn't get frazzled when the game doesn't start the way the team wants or when the lead suddenly shrinks to single digits. He is a team captain whether it's official or not.\n",
    "\n",
    "## The Tear\n",
    "CC has been even better during conference play, crushing it from everywhere on the floor and bumping his assist/turnover ratio up to over 3.0 while playing nearly 35 minutes a game. Mack seems to have figured out the core of his rotation (Nwora, Cunningham, and Sutton) that are going to be playing 30m+ a game, and the groove is showing. CC has been a straight catastrophe for opposing defenses through the first five games of ACC play:"
   ]
  },
  {
   "cell_type": "code",
   "execution_count": 115,
   "metadata": {
    "kernel": "Python3"
   },
   "outputs": [],
   "source": [
    "# Grab per game stats\n",
    "opponents = []\n",
    "pts = []\n",
    "asts = []\n",
    "tos = []\n",
    "efg = []\n",
    "ts = []\n",
    "two_perc = []\n",
    "three_perc = []\n",
    "for x in boxscores:\n",
    "    # Skip the injury game\n",
    "    if x[0] == 'robert-morris':\n",
    "        continue\n",
    "    opponents.append(x[0])\n",
    "    home_team = x[1].home_players  # Retrieve a list of players from the home team\n",
    "    away_team = x[1].away_players  # Retrieve a list of players from the away team\n",
    "    for y in home_team:\n",
    "        if y.name == \"Christen Cunningham\":\n",
    "            cc = y\n",
    "    for y in away_team:\n",
    "        if y.name == \"Christen Cunningham\":\n",
    "            cc = y\n",
    "    \n",
    "    pts.append(cc.points)\n",
    "    asts.append(cc.assists)\n",
    "    tos.append(cc.turnovers)\n",
    "    if cc.effective_field_goal_percentage is not None:\n",
    "        efg.append(cc.effective_field_goal_percentage * 100)\n",
    "    if cc.true_shooting_percentage is not None:\n",
    "        ts.append(cc.true_shooting_percentage * 100)\n",
    "    if cc.two_point_attempts != 0:\n",
    "        two_perc.append(cc.two_point_percentage * 100)\n",
    "    else:\n",
    "        two_perc.append(None)\n",
    "    if cc.three_point_attempts != 0:\n",
    "        three_perc.append(cc.three_point_percentage * 100)\n",
    "    else:\n",
    "        three_perc.append(None)"
   ]
  },
  {
   "cell_type": "code",
   "execution_count": 116,
   "metadata": {
    "kernel": "Python3"
   },
   "outputs": [
    {
     "name": "stdout",
     "output_type": "stream",
     "text": [
      "This is the format of your plot grid:\n",
      "[ (1,1) x1,y1 ]  [ (1,2) x2,y2 ]\n",
      "\n"
     ]
    },
    {
     "data": {
      "text/html": [
       "<iframe id=\"igraph\" scrolling=\"no\" style=\"border:none;\" seamless=\"seamless\" src=\"https://plot.ly/~crossback7/70.embed\" height=\"525px\" width=\"100%\"></iframe>"
      ],
      "text/plain": [
       "<plotly.tools.PlotlyDisplay object>"
      ]
     },
     "execution_count": 116,
     "metadata": {},
     "output_type": "execute_result"
    }
   ],
   "source": [
    "# Last plot.\n",
    "pts_trace = go.Scatter(x=opponents,\n",
    "                      y=pts,\n",
    "                      mode='lines+markers',\n",
    "                      name='Points')\n",
    "\n",
    "asts_trace = go.Scatter(x=opponents,\n",
    "                      y=asts,\n",
    "                      mode='lines+markers',\n",
    "                      name='Assists')\n",
    "\n",
    "tos_trace = go.Scatter(x=opponents,\n",
    "                      y=tos,\n",
    "                      mode='lines+markers',\n",
    "                      name='Turnovers')\n",
    "\n",
    "data = [pts_trace, asts_trace, tos_trace]\n",
    "\n",
    "fig = tools.make_subplots(rows=1, cols=2)\n",
    "\n",
    "fig.append_trace(pts_trace, 1, 1)\n",
    "fig.append_trace(asts_trace, 1, 1)\n",
    "fig.append_trace(tos_trace, 1, 1)\n",
    "\n",
    "efg_trace = go.Scatter(x=opponents,\n",
    "                      y=efg,\n",
    "                      mode='lines+markers',\n",
    "                      name='eFG%')\n",
    "\n",
    "ts_trace = go.Scatter(x=opponents,\n",
    "                      y=ts,\n",
    "                      mode='lines+markers',\n",
    "                      name='TS%')\n",
    "\n",
    "two_trace = go.Scatter(x=opponents,\n",
    "                      y=two_perc,\n",
    "                      mode='lines+markers',\n",
    "                      name='2P%')\n",
    "\n",
    "three_trace = go.Scatter(x=opponents,\n",
    "                      y=three_perc,\n",
    "                      mode='lines+markers',\n",
    "                      name='3P%')\n",
    "\n",
    "fig.append_trace(efg_trace, 1, 2)\n",
    "fig.append_trace(ts_trace, 1, 2)\n",
    "fig.append_trace(two_trace, 1, 2)\n",
    "fig.append_trace(three_trace, 1, 2)\n",
    "\n",
    "fig['layout'].update(title=(p.name + ' - On A Tear'))\n",
    "fig['layout']['yaxis2'].update(title='Percent')\n",
    "\n",
    "py.iplot(fig, filename=\"CC_Tear\")"
   ]
  },
  {
   "cell_type": "markdown",
   "metadata": {
    "kernel": "Python3"
   },
   "source": [
    "He's not dropping 30, but he's a constant offensive threat, forcing his man to stay close and forego floating to help on defense. While scoring is great, he's also had his highest assist games all season against BC and GT. He generally protects the ball very well, rarely turning the ball over in a reckless/lazy fashion à la Perry or Nwora. North Carolina was a tougher game, but they employed the half-court trap on him frequently, and the team was slow to help, especially in the first half. He's currently 5th in the ACC in assists per game, total assists, and assist percentage.\n",
    "\n",
    "## The Butterfly Effect\n",
    "In short, CC's transition into an uber efficient secondary scorer for this team has come at the best possible time given the grueling upcoming slate. For an offense that struggled at times early in the season, CC's latest tear has rubbed off, with nearly every Card seeing at least a mild uptick in their efficiency and offensive numbers during conference play. Yes, yes, we all know that BC, Pitt, GT, and Miami are not the best the ACC has to offer, but it's still encouraging to see the team start to hit their groove. There are still kinks to iron out - Perry and King are both in major funks and McMoney has been trading fat stacks for the occasional dime and not much else. The team still loses focus and takes their foot off the gas more than one would want, but the offense has taken major steps forward in the past few weeks. Malik and Enoch should just stop shooting 3's by the numbers - neither hit at above a 35% clip and have been having much more success inside as of late. CC's threat as both a driver and shooter have opened up the inside game, where Enoch in particular has seemed to find his touch around the rim (65% from 2 point range during conference play compared to 57.9% on the year). It's also allowed Nwora to bump up his Offensive Rating and eFG% a few points each, as he's more able to use the drive to get open for a clean look.\n",
    "\n",
    "In closing, CC is **important** to this team, a statement which will surprise no one now. If you've watched the Cards lately, you know that they just aren't the same team on offense without him on the floor. If you'd told me that'd be the case at the beginning of the season, I'm not sure I would have believed you. Anyway, to sum things up:\n",
    "![Man I'm Glad I Called That Guy](https://y.yarn.co/a5ab69c5-21ef-4356-b13b-a2cc3fc69119_text.gif)"
   ]
  },
  {
   "cell_type": "markdown",
   "metadata": {
    "kernel": "Python3"
   },
   "source": [
    "*Technical Notes: All stats were pulled from sports-reference.com using the wonderful [sportsreference python API](https://github.com/roclark/sportsreference) created by Rob Clark. All data visualizations were created with [plotly](https://plot.ly/python/), yet another python package. All code can be found in a Jupyter notebook file on my [Github](https://github.com/j-andrews7/Cards-Data-Visualizations).*"
   ]
  }
 ],
 "metadata": {
  "kernelspec": {
   "display_name": "SoS",
   "language": "sos",
   "name": "sos"
  },
  "language_info": {
   "codemirror_mode": "sos",
   "file_extension": ".sos",
   "mimetype": "text/x-sos",
   "name": "sos",
   "nbconvert_exporter": "sos_notebook.converter.SoS_Exporter",
   "pygments_lexer": "sos"
  },
  "sos": {
   "kernels": [
    [
     "Python3",
     "python3",
     "Python3",
     "#FFD91A"
    ]
   ],
   "panel": {
    "displayed": true,
    "height": 0,
    "style": "side"
   },
   "version": "0.18.0"
  }
 },
 "nbformat": 4,
 "nbformat_minor": 2
}
